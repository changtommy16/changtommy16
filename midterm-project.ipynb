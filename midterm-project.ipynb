{
 "cells": [
  {
   "cell_type": "raw",
   "id": "a72a6a58",
   "metadata": {
    "_cell_guid": "b1076dfc-b9ad-4769-8c92-a6c4dae69d19",
    "_uuid": "8f2839f25d086af736a60e9eeb907d3b93b6e0e5",
    "papermill": {
     "duration": 0.02293,
     "end_time": "2022-03-30T05:30:27.836369",
     "exception": false,
     "start_time": "2022-03-30T05:30:27.813439",
     "status": "completed"
    },
    "tags": []
   },
   "source": [
    "# This Python 3 environment comes with many helpful analytics libraries installed\n",
    "# It is defined by the kaggle/python Docker image: https://github.com/kaggle/docker-python\n",
    "# For example, here's several helpful packages to load\n",
    "\n",
    "import numpy as np # linear algebra\n",
    "import pandas as pd # data processing, CSV file I/O (e.g. pd.read_csv)\n",
    "\n",
    "# Input data files are available in the read-only \"../input/\" directory\n",
    "# For example, running this (by clicking run or pressing Shift+Enter) will list all files under the input directory\n",
    "\n",
    "import os\n",
    "for dirname, _, filenames in os.walk('/kaggle/input'):\n",
    "    for filename in filenames:\n",
    "        print(os.path.join(dirname, filename))\n",
    "\n",
    "# You can write up to 20GB to the current directory (/kaggle/working/) that gets preserved as output when you create a version using \"Save & Run All\" \n",
    "# You can also write temporary files to /kaggle/temp/, but they won't be saved outside of the current session"
   ]
  },
  {
   "cell_type": "code",
   "execution_count": 1,
   "id": "e2ae1a0f",
   "metadata": {
    "execution": {
     "iopub.execute_input": "2022-03-30T05:30:27.888577Z",
     "iopub.status.busy": "2022-03-30T05:30:27.887001Z",
     "iopub.status.idle": "2022-03-30T05:30:27.931103Z",
     "shell.execute_reply": "2022-03-30T05:30:27.932342Z",
     "shell.execute_reply.started": "2022-03-30T05:24:51.615943Z"
    },
    "papermill": {
     "duration": 0.072175,
     "end_time": "2022-03-30T05:30:27.933100",
     "exception": false,
     "start_time": "2022-03-30T05:30:27.860925",
     "status": "completed"
    },
    "tags": []
   },
   "outputs": [],
   "source": [
    "import pandas as pd\n",
    "\n",
    "data = pd.read_csv(\"../input/updated-netflix-stock-price-all-time/netflix.csv\")"
   ]
  },
  {
   "cell_type": "code",
   "execution_count": 2,
   "id": "d3398d99",
   "metadata": {
    "execution": {
     "iopub.execute_input": "2022-03-30T05:30:28.015725Z",
     "iopub.status.busy": "2022-03-30T05:30:28.014873Z",
     "iopub.status.idle": "2022-03-30T05:30:28.029737Z",
     "shell.execute_reply": "2022-03-30T05:30:28.030163Z",
     "shell.execute_reply.started": "2022-03-30T05:24:51.669771Z"
    },
    "papermill": {
     "duration": 0.058387,
     "end_time": "2022-03-30T05:30:28.030313",
     "exception": false,
     "start_time": "2022-03-30T05:30:27.971926",
     "status": "completed"
    },
    "tags": []
   },
   "outputs": [
    {
     "data": {
      "text/html": [
       "<div>\n",
       "<style scoped>\n",
       "    .dataframe tbody tr th:only-of-type {\n",
       "        vertical-align: middle;\n",
       "    }\n",
       "\n",
       "    .dataframe tbody tr th {\n",
       "        vertical-align: top;\n",
       "    }\n",
       "\n",
       "    .dataframe thead th {\n",
       "        text-align: right;\n",
       "    }\n",
       "</style>\n",
       "<table border=\"1\" class=\"dataframe\">\n",
       "  <thead>\n",
       "    <tr style=\"text-align: right;\">\n",
       "      <th></th>\n",
       "      <th>Date</th>\n",
       "      <th>High</th>\n",
       "      <th>Low</th>\n",
       "      <th>Open</th>\n",
       "      <th>Close</th>\n",
       "      <th>Volume</th>\n",
       "      <th>Adj Close</th>\n",
       "    </tr>\n",
       "  </thead>\n",
       "  <tbody>\n",
       "    <tr>\n",
       "      <th>0</th>\n",
       "      <td>2002-05-23</td>\n",
       "      <td>1.242857</td>\n",
       "      <td>1.145714</td>\n",
       "      <td>1.156429</td>\n",
       "      <td>1.196429</td>\n",
       "      <td>104790000.0</td>\n",
       "      <td>1.196429</td>\n",
       "    </tr>\n",
       "    <tr>\n",
       "      <th>1</th>\n",
       "      <td>2002-05-24</td>\n",
       "      <td>1.225000</td>\n",
       "      <td>1.197143</td>\n",
       "      <td>1.214286</td>\n",
       "      <td>1.210000</td>\n",
       "      <td>11104800.0</td>\n",
       "      <td>1.210000</td>\n",
       "    </tr>\n",
       "    <tr>\n",
       "      <th>2</th>\n",
       "      <td>2002-05-28</td>\n",
       "      <td>1.232143</td>\n",
       "      <td>1.157143</td>\n",
       "      <td>1.213571</td>\n",
       "      <td>1.157143</td>\n",
       "      <td>6609400.0</td>\n",
       "      <td>1.157143</td>\n",
       "    </tr>\n",
       "    <tr>\n",
       "      <th>3</th>\n",
       "      <td>2002-05-29</td>\n",
       "      <td>1.164286</td>\n",
       "      <td>1.085714</td>\n",
       "      <td>1.164286</td>\n",
       "      <td>1.103571</td>\n",
       "      <td>6757800.0</td>\n",
       "      <td>1.103571</td>\n",
       "    </tr>\n",
       "    <tr>\n",
       "      <th>4</th>\n",
       "      <td>2002-05-30</td>\n",
       "      <td>1.107857</td>\n",
       "      <td>1.071429</td>\n",
       "      <td>1.107857</td>\n",
       "      <td>1.071429</td>\n",
       "      <td>10154200.0</td>\n",
       "      <td>1.071429</td>\n",
       "    </tr>\n",
       "  </tbody>\n",
       "</table>\n",
       "</div>"
      ],
      "text/plain": [
       "         Date      High       Low      Open     Close       Volume  Adj Close\n",
       "0  2002-05-23  1.242857  1.145714  1.156429  1.196429  104790000.0   1.196429\n",
       "1  2002-05-24  1.225000  1.197143  1.214286  1.210000   11104800.0   1.210000\n",
       "2  2002-05-28  1.232143  1.157143  1.213571  1.157143    6609400.0   1.157143\n",
       "3  2002-05-29  1.164286  1.085714  1.164286  1.103571    6757800.0   1.103571\n",
       "4  2002-05-30  1.107857  1.071429  1.107857  1.071429   10154200.0   1.071429"
      ]
     },
     "execution_count": 2,
     "metadata": {},
     "output_type": "execute_result"
    }
   ],
   "source": [
    "data.head()"
   ]
  },
  {
   "cell_type": "code",
   "execution_count": 3,
   "id": "0eec2ff9",
   "metadata": {
    "execution": {
     "iopub.execute_input": "2022-03-30T05:30:28.082695Z",
     "iopub.status.busy": "2022-03-30T05:30:28.081562Z",
     "iopub.status.idle": "2022-03-30T05:30:28.102111Z",
     "shell.execute_reply": "2022-03-30T05:30:28.101386Z",
     "shell.execute_reply.started": "2022-03-30T05:24:51.688066Z"
    },
    "papermill": {
     "duration": 0.0488,
     "end_time": "2022-03-30T05:30:28.102298",
     "exception": false,
     "start_time": "2022-03-30T05:30:28.053498",
     "status": "completed"
    },
    "tags": []
   },
   "outputs": [
    {
     "name": "stdout",
     "output_type": "stream",
     "text": [
      "<class 'pandas.core.frame.DataFrame'>\n",
      "RangeIndex: 4881 entries, 0 to 4880\n",
      "Data columns (total 7 columns):\n",
      " #   Column     Non-Null Count  Dtype  \n",
      "---  ------     --------------  -----  \n",
      " 0   Date       4881 non-null   object \n",
      " 1   High       4881 non-null   float64\n",
      " 2   Low        4881 non-null   float64\n",
      " 3   Open       4881 non-null   float64\n",
      " 4   Close      4881 non-null   float64\n",
      " 5   Volume     4881 non-null   float64\n",
      " 6   Adj Close  4881 non-null   float64\n",
      "dtypes: float64(6), object(1)\n",
      "memory usage: 267.1+ KB\n"
     ]
    }
   ],
   "source": [
    "data.info()"
   ]
  },
  {
   "cell_type": "code",
   "execution_count": 4,
   "id": "21246438",
   "metadata": {
    "execution": {
     "iopub.execute_input": "2022-03-30T05:30:28.154203Z",
     "iopub.status.busy": "2022-03-30T05:30:28.153657Z",
     "iopub.status.idle": "2022-03-30T05:30:28.156764Z",
     "shell.execute_reply": "2022-03-30T05:30:28.157349Z",
     "shell.execute_reply.started": "2022-03-30T05:24:51.736228Z"
    },
    "papermill": {
     "duration": 0.031793,
     "end_time": "2022-03-30T05:30:28.157505",
     "exception": false,
     "start_time": "2022-03-30T05:30:28.125712",
     "status": "completed"
    },
    "tags": []
   },
   "outputs": [
    {
     "name": "stdout",
     "output_type": "stream",
     "text": [
      "0         1.196429\n",
      "1         1.210000\n",
      "2         1.157143\n",
      "3         1.103571\n",
      "4         1.071429\n",
      "           ...    \n",
      "4876    634.809998\n",
      "4877    639.099976\n",
      "4878    631.849976\n",
      "4879    632.659973\n",
      "4880    627.039978\n",
      "Name: Close, Length: 4881, dtype: float64\n",
      "Index(['Date', 'High', 'Low', 'Open', 'Close', 'Volume', 'Adj Close'], dtype='object')\n",
      "['2002-05-23' '2002-05-24' '2002-05-28' ... '2021-10-07' '2021-10-08'\n",
      " '2021-10-11']\n",
      "0       2002-05-23\n",
      "1       2002-05-24\n",
      "2       2002-05-28\n",
      "3       2002-05-29\n",
      "4       2002-05-30\n",
      "           ...    \n",
      "4876    2021-10-05\n",
      "4877    2021-10-06\n",
      "4878    2021-10-07\n",
      "4879    2021-10-08\n",
      "4880    2021-10-11\n",
      "Name: Date, Length: 4881, dtype: object\n"
     ]
    }
   ],
   "source": [
    "print(data.Close)\n",
    "print(data.columns)\n",
    "date = data[\"Date\"]\n",
    "date_list = (date.values)\n",
    "Close = data.Close.values\n",
    "print(date_list)\n",
    "print(data[\"Date\"])"
   ]
  },
  {
   "cell_type": "code",
   "execution_count": null,
   "id": "118751b9",
   "metadata": {
    "papermill": {
     "duration": 0.021166,
     "end_time": "2022-03-30T05:30:28.201132",
     "exception": false,
     "start_time": "2022-03-30T05:30:28.179966",
     "status": "completed"
    },
    "tags": []
   },
   "outputs": [],
   "source": []
  },
  {
   "cell_type": "code",
   "execution_count": null,
   "id": "c5e8af48",
   "metadata": {
    "papermill": {
     "duration": 0.025033,
     "end_time": "2022-03-30T05:30:28.250421",
     "exception": false,
     "start_time": "2022-03-30T05:30:28.225388",
     "status": "completed"
    },
    "tags": []
   },
   "outputs": [],
   "source": []
  },
  {
   "cell_type": "markdown",
   "id": "2782e03a",
   "metadata": {
    "papermill": {
     "duration": 0.024593,
     "end_time": "2022-03-30T05:30:28.299822",
     "exception": false,
     "start_time": "2022-03-30T05:30:28.275229",
     "status": "completed"
    },
    "tags": []
   },
   "source": [
    "將全部資料每六十天拆成一個區塊\n",
    "目標使用前六十天的股價作為預測第六十一天的股價的training資料"
   ]
  },
  {
   "cell_type": "code",
   "execution_count": 5,
   "id": "6264c55a",
   "metadata": {
    "execution": {
     "iopub.execute_input": "2022-03-30T05:30:28.360099Z",
     "iopub.status.busy": "2022-03-30T05:30:28.359153Z",
     "iopub.status.idle": "2022-03-30T05:30:28.364520Z",
     "shell.execute_reply": "2022-03-30T05:30:28.365202Z",
     "shell.execute_reply.started": "2022-03-30T05:24:51.750854Z"
    },
    "papermill": {
     "duration": 0.04085,
     "end_time": "2022-03-30T05:30:28.365371",
     "exception": false,
     "start_time": "2022-03-30T05:30:28.324521",
     "status": "completed"
    },
    "tags": []
   },
   "outputs": [
    {
     "name": "stdout",
     "output_type": "stream",
     "text": [
      "DatetimeIndex(['2002-05-23', '2002-07-24', '2002-09-24', '2002-11-25',\n",
      "               '2003-01-26', '2003-03-29', '2003-05-30', '2003-07-31',\n",
      "               '2003-10-01', '2003-12-02',\n",
      "               ...\n",
      "               '2020-03-19', '2020-05-20', '2020-07-21', '2020-09-21',\n",
      "               '2020-11-22', '2021-01-23', '2021-03-26', '2021-05-27',\n",
      "               '2021-07-28', '2021-09-28'],\n",
      "              dtype='datetime64[ns]', length=115, freq='62D')\n",
      "115\n",
      "4881\n",
      "80.01639344262296\n"
     ]
    }
   ],
   "source": [
    "print(pd.date_range(start = \"2002-05-23\",end = \"2021-10-11\", freq=\"62d\"))\n",
    "print(len(pd.date_range(start = \"2002-05-23\",end = \"2021-10-11\", freq=\"62d\")))\n",
    "\n",
    "print(len(date.values))\n",
    "print(4881/61)\n",
    "#test = data[\"Date\"] <= \"2016-01-05\"\n",
    "#data[test]\n"
   ]
  },
  {
   "cell_type": "code",
   "execution_count": 6,
   "id": "45b55e28",
   "metadata": {
    "execution": {
     "iopub.execute_input": "2022-03-30T05:30:28.419569Z",
     "iopub.status.busy": "2022-03-30T05:30:28.418468Z",
     "iopub.status.idle": "2022-03-30T05:30:28.427572Z",
     "shell.execute_reply": "2022-03-30T05:30:28.427142Z",
     "shell.execute_reply.started": "2022-03-30T05:24:51.762441Z"
    },
    "papermill": {
     "duration": 0.036637,
     "end_time": "2022-03-30T05:30:28.427704",
     "exception": false,
     "start_time": "2022-03-30T05:30:28.391067",
     "status": "completed"
    },
    "tags": []
   },
   "outputs": [
    {
     "name": "stdout",
     "output_type": "stream",
     "text": [
      "4881\n"
     ]
    }
   ],
   "source": [
    "data.iloc[0].values #抓特定一筆資料\n",
    "data[data[\"Date\"]<\"2012-05-23\"]\n",
    "print(len(data))\n",
    "#data.loc[\"2002-05-23\"]"
   ]
  },
  {
   "cell_type": "code",
   "execution_count": 7,
   "id": "91cc060a",
   "metadata": {
    "execution": {
     "iopub.execute_input": "2022-03-30T05:30:28.485390Z",
     "iopub.status.busy": "2022-03-30T05:30:28.484743Z",
     "iopub.status.idle": "2022-03-30T05:30:28.488006Z",
     "shell.execute_reply": "2022-03-30T05:30:28.488670Z",
     "shell.execute_reply.started": "2022-03-30T05:24:51.772885Z"
    },
    "papermill": {
     "duration": 0.03617,
     "end_time": "2022-03-30T05:30:28.488842",
     "exception": false,
     "start_time": "2022-03-30T05:30:28.452672",
     "status": "completed"
    },
    "tags": []
   },
   "outputs": [
    {
     "name": "stdout",
     "output_type": "stream",
     "text": [
      "[  1.19642901   1.21000004   1.157143   ... 631.84997559 632.65997314\n",
      " 627.03997803]\n"
     ]
    }
   ],
   "source": [
    "#把closed 的價格抓起來並變成np.array\n",
    "high_closed_price  = data.iloc[: , [5,2]].values #iloc.[:,[2,5]]抓整行，且第2,5行\n",
    "#high_closed_price[:,0]=data[\"Close\"].value\n",
    "\n",
    "print(data[\"Close\"].values)\n"
   ]
  },
  {
   "cell_type": "code",
   "execution_count": 8,
   "id": "56714d48",
   "metadata": {
    "execution": {
     "iopub.execute_input": "2022-03-30T05:30:28.547166Z",
     "iopub.status.busy": "2022-03-30T05:30:28.546395Z",
     "iopub.status.idle": "2022-03-30T05:30:29.446045Z",
     "shell.execute_reply": "2022-03-30T05:30:29.445413Z",
     "shell.execute_reply.started": "2022-03-30T05:24:51.788905Z"
    },
    "papermill": {
     "duration": 0.929304,
     "end_time": "2022-03-30T05:30:29.446202",
     "exception": false,
     "start_time": "2022-03-30T05:30:28.516898",
     "status": "completed"
    },
    "tags": []
   },
   "outputs": [
    {
     "name": "stdout",
     "output_type": "stream",
     "text": [
      "[[0.32341447 0.00126767]\n",
      " [0.03348267 0.00134924]\n",
      " [0.01957055 0.0012858 ]\n",
      " ...\n",
      " [0.01012384 0.99934978]\n",
      " [0.00923936 1.        ]\n",
      " [0.00797083 0.99352915]]\n",
      "[[0.32341447 0.00126767]\n",
      " [0.03348267 0.00134924]\n",
      " [0.01957055 0.0012858 ]\n",
      " ...\n",
      " [0.01012384 0.99934978]\n",
      " [0.00923936 1.        ]\n",
      " [0.00797083 0.99352915]]\n",
      "(4881, 2)\n"
     ]
    }
   ],
   "source": [
    "#標準化training\n",
    "from sklearn.preprocessing import MinMaxScaler\n",
    "sc = MinMaxScaler(feature_range=(0,1))\n",
    "high_closed_price_scaled = sc.fit_transform(high_closed_price)\n",
    "print(high_closed_price_scaled)\n",
    "close_scaled = high_closed_price_scaled\n",
    "print(close_scaled)\n",
    "print(close_scaled.shape)"
   ]
  },
  {
   "cell_type": "code",
   "execution_count": 9,
   "id": "18be35b7",
   "metadata": {
    "execution": {
     "iopub.execute_input": "2022-03-30T05:30:29.511800Z",
     "iopub.status.busy": "2022-03-30T05:30:29.510979Z",
     "iopub.status.idle": "2022-03-30T05:30:29.540349Z",
     "shell.execute_reply": "2022-03-30T05:30:29.541543Z",
     "shell.execute_reply.started": "2022-03-30T05:24:51.803082Z"
    },
    "papermill": {
     "duration": 0.072335,
     "end_time": "2022-03-30T05:30:29.541782",
     "exception": false,
     "start_time": "2022-03-30T05:30:29.469447",
     "status": "completed"
    },
    "tags": []
   },
   "outputs": [
    {
     "name": "stdout",
     "output_type": "stream",
     "text": [
      "(4821, 60) [[0.32341447 0.03348267 0.01957055 ... 0.01164181 0.00921553 0.00477457]\n",
      " [0.03348267 0.01957055 0.02002981 ... 0.00921553 0.00477457 0.00553712]\n",
      " [0.01957055 0.02002981 0.0305408  ... 0.00477457 0.00553712 0.00697556]\n",
      " ...\n",
      " [0.01353611 0.0167992  0.00976856 ... 0.01457718 0.02862237 0.01329131]\n",
      " [0.0167992  0.00976856 0.0111417  ... 0.02862237 0.01329131 0.01012384]\n",
      " [0.00976856 0.0111417  0.02056396 ... 0.01329131 0.01012384 0.00923936]]\n",
      "(4821, 60, 1) [[[0.32341447]\n",
      "  [0.03348267]\n",
      "  [0.01957055]\n",
      "  ...\n",
      "  [0.01164181]\n",
      "  [0.00921553]\n",
      "  [0.00477457]]\n",
      "\n",
      " [[0.03348267]\n",
      "  [0.01957055]\n",
      "  [0.02002981]\n",
      "  ...\n",
      "  [0.00921553]\n",
      "  [0.00477457]\n",
      "  [0.00553712]]\n",
      "\n",
      " [[0.01957055]\n",
      "  [0.02002981]\n",
      "  [0.0305408 ]\n",
      "  ...\n",
      "  [0.00477457]\n",
      "  [0.00553712]\n",
      "  [0.00697556]]\n",
      "\n",
      " ...\n",
      "\n",
      " [[0.01353611]\n",
      "  [0.0167992 ]\n",
      "  [0.00976856]\n",
      "  ...\n",
      "  [0.01457718]\n",
      "  [0.02862237]\n",
      "  [0.01329131]]\n",
      "\n",
      " [[0.0167992 ]\n",
      "  [0.00976856]\n",
      "  [0.0111417 ]\n",
      "  ...\n",
      "  [0.02862237]\n",
      "  [0.01329131]\n",
      "  [0.01012384]]\n",
      "\n",
      " [[0.00976856]\n",
      "  [0.0111417 ]\n",
      "  [0.02056396]\n",
      "  ...\n",
      "  [0.01329131]\n",
      "  [0.01012384]\n",
      "  [0.00923936]]]\n"
     ]
    }
   ],
   "source": [
    "#附上time,stamp\n",
    "import numpy as np\n",
    "x = [] #前60天的價格\n",
    "y = [] #第61天的價格\n",
    "for i in range(60, len(data)):\n",
    "    x.append(close_scaled[i-60:i, 0])\n",
    "    y.append(close_scaled[i, 0])\n",
    "x, y = np.array(x), np.array(y)\n",
    "print(x.shape, x)\n",
    "x = np.reshape(x, (x.shape[0], x.shape[1], 1))\n",
    "print(x.shape,x)"
   ]
  },
  {
   "cell_type": "markdown",
   "id": "d5a122cc",
   "metadata": {
    "papermill": {
     "duration": 0.039983,
     "end_time": "2022-03-30T05:30:29.626306",
     "exception": false,
     "start_time": "2022-03-30T05:30:29.586323",
     "status": "completed"
    },
    "tags": []
   },
   "source": [
    "# Train_Test_split"
   ]
  },
  {
   "cell_type": "code",
   "execution_count": 10,
   "id": "dfb25b1c",
   "metadata": {
    "execution": {
     "iopub.execute_input": "2022-03-30T05:30:29.726082Z",
     "iopub.status.busy": "2022-03-30T05:30:29.725420Z",
     "iopub.status.idle": "2022-03-30T05:30:29.779299Z",
     "shell.execute_reply": "2022-03-30T05:30:29.779920Z",
     "shell.execute_reply.started": "2022-03-30T05:24:51.828107Z"
    },
    "papermill": {
     "duration": 0.099388,
     "end_time": "2022-03-30T05:30:29.780111",
     "exception": false,
     "start_time": "2022-03-30T05:30:29.680723",
     "status": "completed"
    },
    "tags": []
   },
   "outputs": [],
   "source": [
    "#train_test_split\n",
    "from sklearn.model_selection import train_test_split\n",
    "x_train, x_test, y_train, y_test = train_test_split(x, y, test_size=0.2, random_state=1)\n"
   ]
  },
  {
   "cell_type": "code",
   "execution_count": 11,
   "id": "432b259c",
   "metadata": {
    "execution": {
     "iopub.execute_input": "2022-03-30T05:30:29.858439Z",
     "iopub.status.busy": "2022-03-30T05:30:29.857596Z",
     "iopub.status.idle": "2022-03-30T05:30:34.530219Z",
     "shell.execute_reply": "2022-03-30T05:30:34.529719Z",
     "shell.execute_reply.started": "2022-03-30T05:24:51.839864Z"
    },
    "papermill": {
     "duration": 4.713503,
     "end_time": "2022-03-30T05:30:34.530349",
     "exception": false,
     "start_time": "2022-03-30T05:30:29.816846",
     "status": "completed"
    },
    "tags": []
   },
   "outputs": [],
   "source": [
    "from keras.models import Sequential\n",
    "from keras.layers import LSTM\n",
    "from keras.layers import Dropout\n",
    "from keras.layers import Dense"
   ]
  },
  {
   "cell_type": "code",
   "execution_count": 12,
   "id": "c5a9aac8",
   "metadata": {
    "execution": {
     "iopub.execute_input": "2022-03-30T05:30:34.581111Z",
     "iopub.status.busy": "2022-03-30T05:30:34.580500Z",
     "iopub.status.idle": "2022-03-30T05:30:34.583362Z",
     "shell.execute_reply": "2022-03-30T05:30:34.584085Z",
     "shell.execute_reply.started": "2022-03-30T05:24:51.850156Z"
    },
    "papermill": {
     "duration": 0.030411,
     "end_time": "2022-03-30T05:30:34.584245",
     "exception": false,
     "start_time": "2022-03-30T05:30:34.553834",
     "status": "completed"
    },
    "tags": []
   },
   "outputs": [
    {
     "name": "stdout",
     "output_type": "stream",
     "text": [
      "(3856, 60, 1)\n",
      "(3856,)\n"
     ]
    }
   ],
   "source": [
    "print(x_train.shape)\n",
    "print(y_train.shape)\n",
    "#有3856個 內含六十個含有一個陣列的陣列"
   ]
  },
  {
   "cell_type": "code",
   "execution_count": 13,
   "id": "2213c3ab",
   "metadata": {
    "execution": {
     "iopub.execute_input": "2022-03-30T05:30:34.638078Z",
     "iopub.status.busy": "2022-03-30T05:30:34.637531Z",
     "iopub.status.idle": "2022-03-30T05:30:37.875200Z",
     "shell.execute_reply": "2022-03-30T05:30:37.874573Z",
     "shell.execute_reply.started": "2022-03-30T05:24:51.859907Z"
    },
    "papermill": {
     "duration": 3.266456,
     "end_time": "2022-03-30T05:30:37.875354",
     "exception": false,
     "start_time": "2022-03-30T05:30:34.608898",
     "status": "completed"
    },
    "tags": []
   },
   "outputs": [
    {
     "name": "stderr",
     "output_type": "stream",
     "text": [
      "2022-03-30 05:30:34.718766: I tensorflow/stream_executor/cuda/cuda_gpu_executor.cc:937] successful NUMA node read from SysFS had negative value (-1), but there must be at least one NUMA node, so returning NUMA node zero\n",
      "2022-03-30 05:30:34.805362: I tensorflow/stream_executor/cuda/cuda_gpu_executor.cc:937] successful NUMA node read from SysFS had negative value (-1), but there must be at least one NUMA node, so returning NUMA node zero\n",
      "2022-03-30 05:30:34.806053: I tensorflow/stream_executor/cuda/cuda_gpu_executor.cc:937] successful NUMA node read from SysFS had negative value (-1), but there must be at least one NUMA node, so returning NUMA node zero\n",
      "2022-03-30 05:30:34.807511: I tensorflow/core/platform/cpu_feature_guard.cc:142] This TensorFlow binary is optimized with oneAPI Deep Neural Network Library (oneDNN) to use the following CPU instructions in performance-critical operations:  AVX2 AVX512F FMA\n",
      "To enable them in other operations, rebuild TensorFlow with the appropriate compiler flags.\n",
      "2022-03-30 05:30:34.808381: I tensorflow/stream_executor/cuda/cuda_gpu_executor.cc:937] successful NUMA node read from SysFS had negative value (-1), but there must be at least one NUMA node, so returning NUMA node zero\n",
      "2022-03-30 05:30:34.809041: I tensorflow/stream_executor/cuda/cuda_gpu_executor.cc:937] successful NUMA node read from SysFS had negative value (-1), but there must be at least one NUMA node, so returning NUMA node zero\n",
      "2022-03-30 05:30:34.809642: I tensorflow/stream_executor/cuda/cuda_gpu_executor.cc:937] successful NUMA node read from SysFS had negative value (-1), but there must be at least one NUMA node, so returning NUMA node zero\n",
      "2022-03-30 05:30:36.710732: I tensorflow/stream_executor/cuda/cuda_gpu_executor.cc:937] successful NUMA node read from SysFS had negative value (-1), but there must be at least one NUMA node, so returning NUMA node zero\n",
      "2022-03-30 05:30:36.711521: I tensorflow/stream_executor/cuda/cuda_gpu_executor.cc:937] successful NUMA node read from SysFS had negative value (-1), but there must be at least one NUMA node, so returning NUMA node zero\n",
      "2022-03-30 05:30:36.712247: I tensorflow/stream_executor/cuda/cuda_gpu_executor.cc:937] successful NUMA node read from SysFS had negative value (-1), but there must be at least one NUMA node, so returning NUMA node zero\n",
      "2022-03-30 05:30:36.712843: I tensorflow/core/common_runtime/gpu/gpu_device.cc:1510] Created device /job:localhost/replica:0/task:0/device:GPU:0 with 15403 MB memory:  -> device: 0, name: Tesla P100-PCIE-16GB, pci bus id: 0000:00:04.0, compute capability: 6.0\n"
     ]
    },
    {
     "name": "stdout",
     "output_type": "stream",
     "text": [
      "Model: \"sequential\"\n",
      "_________________________________________________________________\n",
      "Layer (type)                 Output Shape              Param #   \n",
      "=================================================================\n",
      "lstm (LSTM)                  (None, 60, 50)            10400     \n",
      "_________________________________________________________________\n",
      "dropout (Dropout)            (None, 60, 50)            0         \n",
      "_________________________________________________________________\n",
      "lstm_1 (LSTM)                (None, 60, 50)            20200     \n",
      "_________________________________________________________________\n",
      "dropout_1 (Dropout)          (None, 60, 50)            0         \n",
      "_________________________________________________________________\n",
      "lstm_2 (LSTM)                (None, 60, 50)            20200     \n",
      "_________________________________________________________________\n",
      "dropout_2 (Dropout)          (None, 60, 50)            0         \n",
      "_________________________________________________________________\n",
      "lstm_3 (LSTM)                (None, 50)                20200     \n",
      "_________________________________________________________________\n",
      "dropout_3 (Dropout)          (None, 50)                0         \n",
      "_________________________________________________________________\n",
      "dense (Dense)                (None, 1)                 51        \n",
      "=================================================================\n",
      "Total params: 71,051\n",
      "Trainable params: 71,051\n",
      "Non-trainable params: 0\n",
      "_________________________________________________________________\n"
     ]
    }
   ],
   "source": [
    "model = Sequential()\n",
    "model.add(LSTM(units = 50, return_sequences = True, input_shape = (x_train.shape[1], 1))) #units 把每個日期的價格變成50維\n",
    "model.add(Dropout(0.5))\n",
    "\n",
    "# Adding a second LSTM layer and some Dropout regularisation\n",
    "model.add(LSTM(units = 50, return_sequences = True))\n",
    "model.add(Dropout(0.5))\n",
    "\n",
    "# Adding a third LSTM layer and some Dropout regularisation\n",
    "model.add(LSTM(units = 50, return_sequences = True))\n",
    "model.add(Dropout(0.5))\n",
    "\n",
    "# Adding a fourth LSTM layer and some Dropout regularisation\n",
    "model.add(LSTM(units = 50))\n",
    "model.add(Dropout(0.5))\n",
    "\n",
    "model.add(Dense(units=1))\n",
    "model.summary()"
   ]
  },
  {
   "cell_type": "markdown",
   "id": "b3fe65bf",
   "metadata": {
    "papermill": {
     "duration": 0.024347,
     "end_time": "2022-03-30T05:30:37.924911",
     "exception": false,
     "start_time": "2022-03-30T05:30:37.900564",
     "status": "completed"
    },
    "tags": []
   },
   "source": [
    "# Define when to save"
   ]
  },
  {
   "cell_type": "code",
   "execution_count": 14,
   "id": "7dcefaee",
   "metadata": {
    "execution": {
     "iopub.execute_input": "2022-03-30T05:30:37.977978Z",
     "iopub.status.busy": "2022-03-30T05:30:37.977316Z",
     "iopub.status.idle": "2022-03-30T05:30:38.312783Z",
     "shell.execute_reply": "2022-03-30T05:30:38.312058Z",
     "shell.execute_reply.started": "2022-03-30T05:24:52.710502Z"
    },
    "papermill": {
     "duration": 0.363817,
     "end_time": "2022-03-30T05:30:38.312923",
     "exception": false,
     "start_time": "2022-03-30T05:30:37.949106",
     "status": "completed"
    },
    "tags": []
   },
   "outputs": [],
   "source": [
    "from tensorflow.keras import callbacks #這邊是keras自己的東西，自動儲存model\n",
    "filepath = '/kaggle/working/best1.hdf5'\n",
    "checkpoint = callbacks.ModelCheckpoint(filepath, monitor='val_loss', save_best_only=True, mode='min', verbose=1)\n",
    "#monitor:取失誤最小的\n",
    "callbacks_list = [checkpoint]"
   ]
  },
  {
   "cell_type": "code",
   "execution_count": 15,
   "id": "df09269e",
   "metadata": {
    "execution": {
     "iopub.execute_input": "2022-03-30T05:30:38.372173Z",
     "iopub.status.busy": "2022-03-30T05:30:38.371232Z",
     "iopub.status.idle": "2022-03-30T05:30:38.373274Z",
     "shell.execute_reply": "2022-03-30T05:30:38.373722Z",
     "shell.execute_reply.started": "2022-03-30T05:24:52.718201Z"
    },
    "papermill": {
     "duration": 0.033479,
     "end_time": "2022-03-30T05:30:38.373863",
     "exception": false,
     "start_time": "2022-03-30T05:30:38.340384",
     "status": "completed"
    },
    "tags": []
   },
   "outputs": [],
   "source": [
    "BATCH_SIZE=64"
   ]
  },
  {
   "cell_type": "code",
   "execution_count": 16,
   "id": "dce12daa",
   "metadata": {
    "execution": {
     "iopub.execute_input": "2022-03-30T05:30:38.429492Z",
     "iopub.status.busy": "2022-03-30T05:30:38.428703Z",
     "iopub.status.idle": "2022-03-30T05:30:38.432938Z",
     "shell.execute_reply": "2022-03-30T05:30:38.433390Z",
     "shell.execute_reply.started": "2022-03-30T05:24:52.730342Z"
    },
    "papermill": {
     "duration": 0.033274,
     "end_time": "2022-03-30T05:30:38.433529",
     "exception": false,
     "start_time": "2022-03-30T05:30:38.400255",
     "status": "completed"
    },
    "tags": []
   },
   "outputs": [],
   "source": [
    "import tensorflow #optomizer 優化\n",
    "from tensorflow.keras import metrics\n",
    "#這邊是adam也很好用\n",
    "# opt = tensorflow.compat.v1.train.AdamOptimizer(\n",
    "#     learning_rate=0.001, beta1=0.9, beta2=0.999, epsilon=1e-08, use_locking=False,\n",
    "#     name='Adam'\n",
    "# )\n",
    "#這邊是SGD一種optomizer \n",
    "#opt = tensorflow.keras.optimizers.SGD( #最好用的之一\n",
    "#    learning_rate=0.01, momentum=0.0, nesterov=False, name=\"SGD\" #learning rate調整學習速率，自己嘗試\n",
    "#)\n",
    "#model.compile(optimizer=opt, loss='mean_squared_error') "
   ]
  },
  {
   "cell_type": "code",
   "execution_count": 17,
   "id": "1f9ae84e",
   "metadata": {
    "execution": {
     "iopub.execute_input": "2022-03-30T05:30:38.491195Z",
     "iopub.status.busy": "2022-03-30T05:30:38.490408Z",
     "iopub.status.idle": "2022-03-30T05:30:38.496935Z",
     "shell.execute_reply": "2022-03-30T05:30:38.496444Z",
     "shell.execute_reply.started": "2022-03-30T05:24:52.740408Z"
    },
    "papermill": {
     "duration": 0.038693,
     "end_time": "2022-03-30T05:30:38.497042",
     "exception": false,
     "start_time": "2022-03-30T05:30:38.458349",
     "status": "completed"
    },
    "tags": []
   },
   "outputs": [],
   "source": [
    "#optimizer\n",
    "model.compile(optimizer = 'adam', loss = 'mean_squared_error')"
   ]
  },
  {
   "cell_type": "code",
   "execution_count": 18,
   "id": "019b2721",
   "metadata": {
    "execution": {
     "iopub.execute_input": "2022-03-30T05:30:38.549363Z",
     "iopub.status.busy": "2022-03-30T05:30:38.548559Z",
     "iopub.status.idle": "2022-03-30T05:30:38.550949Z",
     "shell.execute_reply": "2022-03-30T05:30:38.550498Z",
     "shell.execute_reply.started": "2022-03-30T05:24:52.759492Z"
    },
    "papermill": {
     "duration": 0.029636,
     "end_time": "2022-03-30T05:30:38.551063",
     "exception": false,
     "start_time": "2022-03-30T05:30:38.521427",
     "status": "completed"
    },
    "tags": []
   },
   "outputs": [],
   "source": [
    "#from tensorflow.keras import metrics, optimizers\n",
    "#import tensorflow\n",
    "#opt = tensorflow.compat.v1.train.AdamOptimizer(\n",
    "#    learning_rate=0.001, beta1=0.9, beta2=0.999, epsilon=1e-08, use_locking=False,\n",
    "#    name='Adam'\n",
    "#) #learning_rate調整反調整的rate\n",
    "#model.compile(optimizer=opt, loss='binary_crossentropy', metrics=['accuracy', metrics.AUC()])"
   ]
  },
  {
   "cell_type": "code",
   "execution_count": 19,
   "id": "eb13f5ff",
   "metadata": {
    "execution": {
     "iopub.execute_input": "2022-03-30T05:30:38.603675Z",
     "iopub.status.busy": "2022-03-30T05:30:38.602944Z",
     "iopub.status.idle": "2022-03-30T05:33:30.830543Z",
     "shell.execute_reply": "2022-03-30T05:33:30.830072Z",
     "shell.execute_reply.started": "2022-03-30T05:24:52.770349Z"
    },
    "papermill": {
     "duration": 172.25539,
     "end_time": "2022-03-30T05:33:30.830687",
     "exception": false,
     "start_time": "2022-03-30T05:30:38.575297",
     "status": "completed"
    },
    "tags": []
   },
   "outputs": [
    {
     "name": "stderr",
     "output_type": "stream",
     "text": [
      "2022-03-30 05:30:38.648657: I tensorflow/compiler/mlir/mlir_graph_optimization_pass.cc:185] None of the MLIR Optimization Passes are enabled (registered 2)\n"
     ]
    },
    {
     "name": "stdout",
     "output_type": "stream",
     "text": [
      "Epoch 1/100\n"
     ]
    },
    {
     "name": "stderr",
     "output_type": "stream",
     "text": [
      "2022-03-30 05:30:43.951334: I tensorflow/stream_executor/cuda/cuda_dnn.cc:369] Loaded cuDNN version 8005\n"
     ]
    },
    {
     "name": "stdout",
     "output_type": "stream",
     "text": [
      "121/121 [==============================] - 8s 13ms/step - loss: 0.0027\n",
      "Epoch 2/100\n",
      "121/121 [==============================] - 2s 13ms/step - loss: 0.0025\n",
      "Epoch 3/100\n",
      "121/121 [==============================] - 2s 14ms/step - loss: 0.0025\n",
      "Epoch 4/100\n",
      "121/121 [==============================] - 2s 17ms/step - loss: 0.0025\n",
      "Epoch 5/100\n",
      "121/121 [==============================] - 2s 14ms/step - loss: 0.0024\n",
      "Epoch 6/100\n",
      "121/121 [==============================] - 2s 13ms/step - loss: 0.0024\n",
      "Epoch 7/100\n",
      "121/121 [==============================] - 2s 13ms/step - loss: 0.0024\n",
      "Epoch 8/100\n",
      "121/121 [==============================] - 2s 13ms/step - loss: 0.0023\n",
      "Epoch 9/100\n",
      "121/121 [==============================] - 2s 13ms/step - loss: 0.0024\n",
      "Epoch 10/100\n",
      "121/121 [==============================] - 2s 13ms/step - loss: 0.0023\n",
      "Epoch 11/100\n",
      "121/121 [==============================] - 2s 14ms/step - loss: 0.0023\n",
      "Epoch 12/100\n",
      "121/121 [==============================] - 2s 13ms/step - loss: 0.0023\n",
      "Epoch 13/100\n",
      "121/121 [==============================] - 2s 13ms/step - loss: 0.0022\n",
      "Epoch 14/100\n",
      "121/121 [==============================] - 2s 13ms/step - loss: 0.0021\n",
      "Epoch 15/100\n",
      "121/121 [==============================] - 2s 14ms/step - loss: 0.0021\n",
      "Epoch 16/100\n",
      "121/121 [==============================] - 2s 13ms/step - loss: 0.0020\n",
      "Epoch 17/100\n",
      "121/121 [==============================] - 2s 13ms/step - loss: 0.0020\n",
      "Epoch 18/100\n",
      "121/121 [==============================] - 2s 14ms/step - loss: 0.0019\n",
      "Epoch 19/100\n",
      "121/121 [==============================] - 2s 13ms/step - loss: 0.0019\n",
      "Epoch 20/100\n",
      "121/121 [==============================] - 2s 13ms/step - loss: 0.0019\n",
      "Epoch 21/100\n",
      "121/121 [==============================] - 2s 13ms/step - loss: 0.0019\n",
      "Epoch 22/100\n",
      "121/121 [==============================] - 2s 13ms/step - loss: 0.0019\n",
      "Epoch 23/100\n",
      "121/121 [==============================] - 2s 14ms/step - loss: 0.0018\n",
      "Epoch 24/100\n",
      "121/121 [==============================] - 2s 15ms/step - loss: 0.0018\n",
      "Epoch 25/100\n",
      "121/121 [==============================] - 2s 14ms/step - loss: 0.0017\n",
      "Epoch 26/100\n",
      "121/121 [==============================] - 2s 13ms/step - loss: 0.0019\n",
      "Epoch 27/100\n",
      "121/121 [==============================] - 2s 13ms/step - loss: 0.0018\n",
      "Epoch 28/100\n",
      "121/121 [==============================] - 2s 13ms/step - loss: 0.0018\n",
      "Epoch 29/100\n",
      "121/121 [==============================] - 2s 13ms/step - loss: 0.0018\n",
      "Epoch 30/100\n",
      "121/121 [==============================] - 2s 13ms/step - loss: 0.0018\n",
      "Epoch 31/100\n",
      "121/121 [==============================] - 2s 15ms/step - loss: 0.0018\n",
      "Epoch 32/100\n",
      "121/121 [==============================] - 2s 13ms/step - loss: 0.0018\n",
      "Epoch 33/100\n",
      "121/121 [==============================] - 2s 14ms/step - loss: 0.0018\n",
      "Epoch 34/100\n",
      "121/121 [==============================] - 2s 13ms/step - loss: 0.0017\n",
      "Epoch 35/100\n",
      "121/121 [==============================] - 2s 13ms/step - loss: 0.0017\n",
      "Epoch 36/100\n",
      "121/121 [==============================] - 2s 13ms/step - loss: 0.0018\n",
      "Epoch 37/100\n",
      "121/121 [==============================] - 2s 13ms/step - loss: 0.0018\n",
      "Epoch 38/100\n",
      "121/121 [==============================] - 2s 15ms/step - loss: 0.0017\n",
      "Epoch 39/100\n",
      "121/121 [==============================] - 2s 14ms/step - loss: 0.0018\n",
      "Epoch 40/100\n",
      "121/121 [==============================] - 2s 13ms/step - loss: 0.0017\n",
      "Epoch 41/100\n",
      "121/121 [==============================] - 2s 13ms/step - loss: 0.0017\n",
      "Epoch 42/100\n",
      "121/121 [==============================] - 2s 13ms/step - loss: 0.0017\n",
      "Epoch 43/100\n",
      "121/121 [==============================] - 2s 14ms/step - loss: 0.0018\n",
      "Epoch 44/100\n",
      "121/121 [==============================] - 2s 16ms/step - loss: 0.0018\n",
      "Epoch 45/100\n",
      "121/121 [==============================] - 2s 14ms/step - loss: 0.0017\n",
      "Epoch 46/100\n",
      "121/121 [==============================] - 2s 13ms/step - loss: 0.0017\n",
      "Epoch 47/100\n",
      "121/121 [==============================] - 2s 13ms/step - loss: 0.0017\n",
      "Epoch 48/100\n",
      "121/121 [==============================] - 2s 13ms/step - loss: 0.0017\n",
      "Epoch 49/100\n",
      "121/121 [==============================] - 2s 13ms/step - loss: 0.0018\n",
      "Epoch 50/100\n",
      "121/121 [==============================] - 2s 13ms/step - loss: 0.0017\n",
      "Epoch 51/100\n",
      "121/121 [==============================] - 2s 14ms/step - loss: 0.0018\n",
      "Epoch 52/100\n",
      "121/121 [==============================] - 2s 15ms/step - loss: 0.0017\n",
      "Epoch 53/100\n",
      "121/121 [==============================] - 2s 13ms/step - loss: 0.0017\n",
      "Epoch 54/100\n",
      "121/121 [==============================] - 2s 13ms/step - loss: 0.0017\n",
      "Epoch 55/100\n",
      "121/121 [==============================] - 2s 13ms/step - loss: 0.0017\n",
      "Epoch 56/100\n",
      "121/121 [==============================] - 2s 13ms/step - loss: 0.0017\n",
      "Epoch 57/100\n",
      "121/121 [==============================] - 2s 13ms/step - loss: 0.0017\n",
      "Epoch 58/100\n",
      "121/121 [==============================] - 2s 15ms/step - loss: 0.0017\n",
      "Epoch 59/100\n",
      "121/121 [==============================] - 2s 13ms/step - loss: 0.0017\n",
      "Epoch 60/100\n",
      "121/121 [==============================] - 2s 13ms/step - loss: 0.0017\n",
      "Epoch 61/100\n",
      "121/121 [==============================] - 2s 13ms/step - loss: 0.0017\n",
      "Epoch 62/100\n",
      "121/121 [==============================] - 2s 13ms/step - loss: 0.0017\n",
      "Epoch 63/100\n",
      "121/121 [==============================] - 2s 15ms/step - loss: 0.0017\n",
      "Epoch 64/100\n",
      "121/121 [==============================] - 2s 15ms/step - loss: 0.0017\n",
      "Epoch 65/100\n",
      "121/121 [==============================] - 2s 14ms/step - loss: 0.0017\n",
      "Epoch 66/100\n",
      "121/121 [==============================] - 2s 13ms/step - loss: 0.0018\n",
      "Epoch 67/100\n",
      "121/121 [==============================] - 2s 13ms/step - loss: 0.0016\n",
      "Epoch 68/100\n",
      "121/121 [==============================] - 2s 13ms/step - loss: 0.0017\n",
      "Epoch 69/100\n",
      "121/121 [==============================] - 2s 13ms/step - loss: 0.0017\n",
      "Epoch 70/100\n",
      "121/121 [==============================] - 2s 13ms/step - loss: 0.0017\n",
      "Epoch 71/100\n",
      "121/121 [==============================] - 2s 17ms/step - loss: 0.0017\n",
      "Epoch 72/100\n",
      "121/121 [==============================] - 2s 13ms/step - loss: 0.0017\n",
      "Epoch 73/100\n",
      "121/121 [==============================] - 2s 13ms/step - loss: 0.0017\n",
      "Epoch 74/100\n",
      "121/121 [==============================] - 2s 13ms/step - loss: 0.0018\n",
      "Epoch 75/100\n",
      "121/121 [==============================] - 2s 13ms/step - loss: 0.0017\n",
      "Epoch 76/100\n",
      "121/121 [==============================] - 2s 13ms/step - loss: 0.0017\n",
      "Epoch 77/100\n",
      "121/121 [==============================] - 2s 13ms/step - loss: 0.0017\n",
      "Epoch 78/100\n",
      "121/121 [==============================] - 2s 15ms/step - loss: 0.0017\n",
      "Epoch 79/100\n",
      "121/121 [==============================] - 2s 13ms/step - loss: 0.0017\n",
      "Epoch 80/100\n",
      "121/121 [==============================] - 2s 13ms/step - loss: 0.0016\n",
      "Epoch 81/100\n",
      "121/121 [==============================] - 2s 13ms/step - loss: 0.0017\n",
      "Epoch 82/100\n",
      "121/121 [==============================] - 2s 13ms/step - loss: 0.0017\n",
      "Epoch 83/100\n",
      "121/121 [==============================] - 2s 16ms/step - loss: 0.0017\n",
      "Epoch 84/100\n",
      "121/121 [==============================] - 2s 15ms/step - loss: 0.0017\n",
      "Epoch 85/100\n",
      "121/121 [==============================] - 2s 13ms/step - loss: 0.0017\n",
      "Epoch 86/100\n",
      "121/121 [==============================] - 2s 13ms/step - loss: 0.0017\n",
      "Epoch 87/100\n",
      "121/121 [==============================] - 2s 13ms/step - loss: 0.0017\n",
      "Epoch 88/100\n",
      "121/121 [==============================] - 2s 13ms/step - loss: 0.0017\n",
      "Epoch 89/100\n",
      "121/121 [==============================] - 2s 13ms/step - loss: 0.0017\n",
      "Epoch 90/100\n",
      "121/121 [==============================] - 2s 15ms/step - loss: 0.0017\n",
      "Epoch 91/100\n",
      "121/121 [==============================] - 2s 16ms/step - loss: 0.0017\n",
      "Epoch 92/100\n",
      "121/121 [==============================] - 2s 14ms/step - loss: 0.0017\n",
      "Epoch 93/100\n",
      "121/121 [==============================] - 2s 13ms/step - loss: 0.0017\n",
      "Epoch 94/100\n",
      "121/121 [==============================] - 2s 13ms/step - loss: 0.0017\n",
      "Epoch 95/100\n",
      "121/121 [==============================] - 2s 13ms/step - loss: 0.0017\n",
      "Epoch 96/100\n",
      "121/121 [==============================] - 2s 13ms/step - loss: 0.0017\n",
      "Epoch 97/100\n",
      "121/121 [==============================] - 2s 14ms/step - loss: 0.0017\n",
      "Epoch 98/100\n",
      "121/121 [==============================] - 2s 14ms/step - loss: 0.0017\n",
      "Epoch 99/100\n",
      "121/121 [==============================] - 2s 13ms/step - loss: 0.0018\n",
      "Epoch 100/100\n",
      "121/121 [==============================] - 2s 13ms/step - loss: 0.0016\n"
     ]
    },
    {
     "data": {
      "text/plain": [
       "<keras.callbacks.History at 0x7f1040046950>"
      ]
     },
     "execution_count": 19,
     "metadata": {},
     "output_type": "execute_result"
    }
   ],
   "source": [
    "model.fit(x_train, y_train, epochs = 100, batch_size = 32)"
   ]
  },
  {
   "cell_type": "code",
   "execution_count": null,
   "id": "f2ac1be4",
   "metadata": {
    "papermill": {
     "duration": 1.026222,
     "end_time": "2022-03-30T05:33:32.885358",
     "exception": false,
     "start_time": "2022-03-30T05:33:31.859136",
     "status": "completed"
    },
    "tags": []
   },
   "outputs": [],
   "source": []
  }
 ],
 "metadata": {
  "kernelspec": {
   "display_name": "Python 3",
   "language": "python",
   "name": "python3"
  },
  "language_info": {
   "codemirror_mode": {
    "name": "ipython",
    "version": 3
   },
   "file_extension": ".py",
   "mimetype": "text/x-python",
   "name": "python",
   "nbconvert_exporter": "python",
   "pygments_lexer": "ipython3",
   "version": "3.7.12"
  },
  "papermill": {
   "default_parameters": {},
   "duration": 197.457658,
   "end_time": "2022-03-30T05:33:37.360198",
   "environment_variables": {},
   "exception": null,
   "input_path": "__notebook__.ipynb",
   "output_path": "__notebook__.ipynb",
   "parameters": {},
   "start_time": "2022-03-30T05:30:19.902540",
   "version": "2.3.3"
  }
 },
 "nbformat": 4,
 "nbformat_minor": 5
}
